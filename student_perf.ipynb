{
 "cells": [
  {
   "cell_type": "code",
   "execution_count": 13,
   "metadata": {},
   "outputs": [],
   "source": [
    "import pandas as pd\n",
    "import numpy as np\n",
    "import matplotlib.pyplot as plt"
   ]
  },
  {
   "cell_type": "code",
   "execution_count": 14,
   "metadata": {},
   "outputs": [
    {
     "name": "stdout",
     "output_type": "stream",
     "text": [
      "   StudentID  Age  Gender  Ethnicity  ParentalEducation  StudyTimeWeekly  \\\n",
      "0       1001   17       1          0                  2        19.833723   \n",
      "1       1002   18       0          0                  1        15.408756   \n",
      "2       1003   15       0          2                  3         4.210570   \n",
      "3       1004   17       1          0                  3        10.028829   \n",
      "4       1005   17       1          0                  2         4.672495   \n",
      "\n",
      "   Absences  Tutoring  ParentalSupport  Extracurricular  Sports  Music  \\\n",
      "0         7         1                2                0       0      1   \n",
      "1         0         0                1                0       0      0   \n",
      "2        26         0                2                0       0      0   \n",
      "3        14         0                3                1       0      0   \n",
      "4        17         1                3                0       0      0   \n",
      "\n",
      "   Volunteering       GPA  GradeClass  \n",
      "0             0  2.929196         2.0  \n",
      "1             0  3.042915         1.0  \n",
      "2             0  0.112602         4.0  \n",
      "3             0  2.054218         3.0  \n",
      "4             0  1.288061         4.0  \n"
     ]
    }
   ],
   "source": [
    "\n",
    "df = pd.read_csv(\"student_performance.csv\")\n",
    "print(df.head())\n"
   ]
  },
  {
   "cell_type": "code",
   "execution_count": 15,
   "metadata": {},
   "outputs": [
    {
     "name": "stdout",
     "output_type": "stream",
     "text": [
      "Index(['StudentID', 'Age', 'Gender', 'Ethnicity', 'ParentalEducation',\n",
      "       'StudyTimeWeekly', 'Absences', 'Tutoring', 'ParentalSupport',\n",
      "       'Extracurricular', 'Sports', 'Music', 'Volunteering', 'GPA',\n",
      "       'GradeClass'],\n",
      "      dtype='object')\n"
     ]
    }
   ],
   "source": [
    "#identiffy the features\n",
    "features = df.columns\n",
    "print(features)"
   ]
  },
  {
   "cell_type": "code",
   "execution_count": 16,
   "metadata": {},
   "outputs": [
    {
     "name": "stdout",
     "output_type": "stream",
     "text": [
      "StudentID              int64\n",
      "Age                    int64\n",
      "Gender                 int64\n",
      "Ethnicity              int64\n",
      "ParentalEducation      int64\n",
      "StudyTimeWeekly      float64\n",
      "Absences               int64\n",
      "Tutoring               int64\n",
      "ParentalSupport        int64\n",
      "Extracurricular        int64\n",
      "Sports                 int64\n",
      "Music                  int64\n",
      "Volunteering           int64\n",
      "GPA                  float64\n",
      "GradeClass           float64\n",
      "dtype: object\n"
     ]
    }
   ],
   "source": [
    "#identify the datatypes\n",
    "data_types=df.dtypes\n",
    "print(data_types)"
   ]
  },
  {
   "cell_type": "code",
   "execution_count": 17,
   "metadata": {},
   "outputs": [
    {
     "name": "stdout",
     "output_type": "stream",
     "text": [
      "         StudentID          Age       Gender    Ethnicity  ParentalEducation  \\\n",
      "count  2392.000000  2392.000000  2392.000000  2392.000000        2392.000000   \n",
      "mean   2196.500000    16.468645     0.510870     0.877508           1.746237   \n",
      "std     690.655244     1.123798     0.499986     1.028476           1.000411   \n",
      "min    1001.000000    15.000000     0.000000     0.000000           0.000000   \n",
      "25%    1598.750000    15.000000     0.000000     0.000000           1.000000   \n",
      "50%    2196.500000    16.000000     1.000000     0.000000           2.000000   \n",
      "75%    2794.250000    17.000000     1.000000     2.000000           2.000000   \n",
      "max    3392.000000    18.000000     1.000000     3.000000           4.000000   \n",
      "\n",
      "       StudyTimeWeekly     Absences     Tutoring  ParentalSupport  \\\n",
      "count      2392.000000  2392.000000  2392.000000      2392.000000   \n",
      "mean          9.771992    14.541388     0.301421         2.122074   \n",
      "std           5.652774     8.467417     0.458971         1.122813   \n",
      "min           0.001057     0.000000     0.000000         0.000000   \n",
      "25%           5.043079     7.000000     0.000000         1.000000   \n",
      "50%           9.705363    15.000000     0.000000         2.000000   \n",
      "75%          14.408410    22.000000     1.000000         3.000000   \n",
      "max          19.978094    29.000000     1.000000         4.000000   \n",
      "\n",
      "       Extracurricular       Sports        Music  Volunteering          GPA  \\\n",
      "count      2392.000000  2392.000000  2392.000000   2392.000000  2392.000000   \n",
      "mean          0.383361     0.303512     0.196906      0.157191     1.906186   \n",
      "std           0.486307     0.459870     0.397744      0.364057     0.915156   \n",
      "min           0.000000     0.000000     0.000000      0.000000     0.000000   \n",
      "25%           0.000000     0.000000     0.000000      0.000000     1.174803   \n",
      "50%           0.000000     0.000000     0.000000      0.000000     1.893393   \n",
      "75%           1.000000     1.000000     0.000000      0.000000     2.622216   \n",
      "max           1.000000     1.000000     1.000000      1.000000     4.000000   \n",
      "\n",
      "        GradeClass  \n",
      "count  2392.000000  \n",
      "mean      2.983696  \n",
      "std       1.233908  \n",
      "min       0.000000  \n",
      "25%       2.000000  \n",
      "50%       4.000000  \n",
      "75%       4.000000  \n",
      "max       4.000000  \n"
     ]
    }
   ],
   "source": [
    "summary=df.describe()\n",
    "print(summary)"
   ]
  },
  {
   "cell_type": "code",
   "execution_count": 18,
   "metadata": {},
   "outputs": [
    {
     "name": "stdout",
     "output_type": "stream",
     "text": [
      "This dataset contains detailed information about students, including various attributes that may influence their academic performance. Each record corresponds to a student, identified by a unique StudentID. Key demographic information includes Age, Gender (where 1 typically represents male and 0 represents female), and Ethnicity. ParentalEducation indicates the highest level of education attained by the student's parents, which can impact the student's academic support and environment.\n",
      "\n",
      "StudyTimeWeekly captures the average number of hours a student spends studying each week, providing insight into their academic dedication. The Absences column records the number of school days missed, which can affect their learning outcomes. Tutoring indicates whether the student receives additional academic help outside regular classes.\n",
      "\n",
      "ParentalSupport measures the level of involvement and support from the student's parents. Extracurricular shows participation in non-academic activities, and specific fields such as Sports and Music indicate involvement in sports and music activities, respectively. Volunteering captures engagement in community service.\n",
      "\n",
      "The dataset also includes academic performance indicators: GPA represents the student's grade point average, and GradeClass categorizes students into different academic standing or class levels based on their GPA. This comprehensive dataset allows for analysis of how various factors correlate with academic performance and can be used to identify areas where students may need additional support.\n"
     ]
    }
   ],
   "source": [
    "print(\"This dataset contains detailed information about students, including various attributes that may influence their academic performance. Each record corresponds to a student, identified by a unique StudentID. Key demographic information includes Age, Gender (where 1 typically represents male and 0 represents female), and Ethnicity. ParentalEducation indicates the highest level of education attained by the student's parents, which can impact the student's academic support and environment.\\n\\n\"\n",
    "      \"StudyTimeWeekly captures the average number of hours a student spends studying each week, providing insight into their academic dedication. The Absences column records the number of school days missed, which can affect their learning outcomes. Tutoring indicates whether the student receives additional academic help outside regular classes.\\n\\n\"\n",
    "      \"ParentalSupport measures the level of involvement and support from the student's parents. Extracurricular shows participation in non-academic activities, and specific fields such as Sports and Music indicate involvement in sports and music activities, respectively. Volunteering captures engagement in community service.\\n\\n\"\n",
    "      \"The dataset also includes academic performance indicators: GPA represents the student's grade point average, and GradeClass categorizes students into different academic standing or class levels based on their GPA. This comprehensive dataset allows for analysis of how various factors correlate with academic performance and can be used to identify areas where students may need additional support.\")\n"
   ]
  }
 ],
 "metadata": {
  "kernelspec": {
   "display_name": "Python 3",
   "language": "python",
   "name": "python3"
  },
  "language_info": {
   "codemirror_mode": {
    "name": "ipython",
    "version": 3
   },
   "file_extension": ".py",
   "mimetype": "text/x-python",
   "name": "python",
   "nbconvert_exporter": "python",
   "pygments_lexer": "ipython3",
   "version": "3.11.9"
  }
 },
 "nbformat": 4,
 "nbformat_minor": 2
}
